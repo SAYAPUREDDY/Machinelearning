{
 "cells": [
  {
   "cell_type": "markdown",
   "id": "f6ea909f",
   "metadata": {},
   "source": [
    "Numpy"
   ]
  },
  {
   "cell_type": "code",
   "execution_count": 2,
   "id": "3d7f3fd1",
   "metadata": {},
   "outputs": [],
   "source": [
    "import numpy as np"
   ]
  },
  {
   "cell_type": "code",
   "execution_count": 4,
   "id": "f9f18d5e",
   "metadata": {},
   "outputs": [],
   "source": [
    "np1 = np.array([1,2,3,4])"
   ]
  },
  {
   "cell_type": "code",
   "execution_count": 6,
   "id": "0a0e7bfa",
   "metadata": {},
   "outputs": [
    {
     "data": {
      "text/plain": [
       "array([1, 2, 3, 4])"
      ]
     },
     "execution_count": 6,
     "metadata": {},
     "output_type": "execute_result"
    }
   ],
   "source": [
    "np1"
   ]
  },
  {
   "cell_type": "code",
   "execution_count": 8,
   "id": "7fa7de86",
   "metadata": {},
   "outputs": [
    {
     "data": {
      "text/plain": [
       "numpy.ndarray"
      ]
     },
     "execution_count": 8,
     "metadata": {},
     "output_type": "execute_result"
    }
   ],
   "source": [
    "type(np1)"
   ]
  },
  {
   "cell_type": "code",
   "execution_count": 11,
   "id": "6ea073d2",
   "metadata": {},
   "outputs": [],
   "source": [
    "Mat1 = np.array([[1,2],[3,4]])"
   ]
  },
  {
   "cell_type": "code",
   "execution_count": 13,
   "id": "9724e421",
   "metadata": {},
   "outputs": [
    {
     "data": {
      "text/plain": [
       "array([[1, 2],\n",
       "       [3, 4]])"
      ]
     },
     "execution_count": 13,
     "metadata": {},
     "output_type": "execute_result"
    }
   ],
   "source": [
    "Mat1"
   ]
  },
  {
   "cell_type": "code",
   "execution_count": 15,
   "id": "70dc4ab6",
   "metadata": {},
   "outputs": [
    {
     "data": {
      "text/plain": [
       "(4,)"
      ]
     },
     "execution_count": 15,
     "metadata": {},
     "output_type": "execute_result"
    }
   ],
   "source": [
    "np1.shape"
   ]
  },
  {
   "cell_type": "code",
   "execution_count": 17,
   "id": "7c055ce4",
   "metadata": {},
   "outputs": [
    {
     "data": {
      "text/plain": [
       "(2, 2)"
      ]
     },
     "execution_count": 17,
     "metadata": {},
     "output_type": "execute_result"
    }
   ],
   "source": [
    "Mat1.shape"
   ]
  },
  {
   "cell_type": "code",
   "execution_count": 19,
   "id": "18aff2ed",
   "metadata": {},
   "outputs": [
    {
     "data": {
      "text/plain": [
       "dtype('int32')"
      ]
     },
     "execution_count": 19,
     "metadata": {},
     "output_type": "execute_result"
    }
   ],
   "source": [
    "Mat1.dtype"
   ]
  },
  {
   "cell_type": "code",
   "execution_count": 21,
   "id": "46224fea",
   "metadata": {},
   "outputs": [],
   "source": [
    "Mat1[0,0] = 10"
   ]
  },
  {
   "cell_type": "code",
   "execution_count": 23,
   "id": "c9dc8075",
   "metadata": {},
   "outputs": [
    {
     "data": {
      "text/plain": [
       "array([[10,  2],\n",
       "       [ 3,  4]])"
      ]
     },
     "execution_count": 23,
     "metadata": {},
     "output_type": "execute_result"
    }
   ],
   "source": [
    "Mat1"
   ]
  },
  {
   "cell_type": "code",
   "execution_count": 26,
   "id": "60dc0a39",
   "metadata": {},
   "outputs": [],
   "source": [
    "Mat2=np.arange(0,20,2)"
   ]
  },
  {
   "cell_type": "code",
   "execution_count": 28,
   "id": "24c924ba",
   "metadata": {},
   "outputs": [
    {
     "data": {
      "text/plain": [
       "array([ 0,  2,  4,  6,  8, 10, 12, 14, 16, 18])"
      ]
     },
     "execution_count": 28,
     "metadata": {},
     "output_type": "execute_result"
    }
   ],
   "source": [
    "Mat2"
   ]
  },
  {
   "cell_type": "code",
   "execution_count": 29,
   "id": "9bcd8b41",
   "metadata": {},
   "outputs": [],
   "source": [
    "Mat3=np.linspace(0,10,20)"
   ]
  },
  {
   "cell_type": "code",
   "execution_count": 31,
   "id": "21bc3892",
   "metadata": {},
   "outputs": [
    {
     "data": {
      "text/plain": [
       "array([ 0.        ,  0.52631579,  1.05263158,  1.57894737,  2.10526316,\n",
       "        2.63157895,  3.15789474,  3.68421053,  4.21052632,  4.73684211,\n",
       "        5.26315789,  5.78947368,  6.31578947,  6.84210526,  7.36842105,\n",
       "        7.89473684,  8.42105263,  8.94736842,  9.47368421, 10.        ])"
      ]
     },
     "execution_count": 31,
     "metadata": {},
     "output_type": "execute_result"
    }
   ],
   "source": [
    "Mat3"
   ]
  },
  {
   "cell_type": "code",
   "execution_count": 33,
   "id": "ff7a0cac",
   "metadata": {},
   "outputs": [
    {
     "data": {
      "text/plain": [
       "(20,)"
      ]
     },
     "execution_count": 33,
     "metadata": {},
     "output_type": "execute_result"
    }
   ],
   "source": [
    "Mat3.shape"
   ]
  },
  {
   "cell_type": "code",
   "execution_count": 35,
   "id": "25e09661",
   "metadata": {},
   "outputs": [],
   "source": [
    "Mat4=np.random.rand(10,10)"
   ]
  },
  {
   "cell_type": "code",
   "execution_count": 38,
   "id": "d1ee968a",
   "metadata": {},
   "outputs": [
    {
     "data": {
      "text/plain": [
       "array([[0.2042413 , 0.76409403, 0.47513795, 0.05992314, 0.96684452,\n",
       "        0.7569511 , 0.23759049, 0.57181192, 0.64465088, 0.98063782],\n",
       "       [0.77793765, 0.56052224, 0.51020881, 0.18616928, 0.65236123,\n",
       "        0.27658   , 0.76972946, 0.54463933, 0.75229721, 0.79920608],\n",
       "       [0.94435777, 0.85439731, 0.29728303, 0.6123625 , 0.218116  ,\n",
       "        0.04394406, 0.60143659, 0.15257471, 0.16811854, 0.02298779],\n",
       "       [0.70712964, 0.38781831, 0.28903918, 0.95922879, 0.09944606,\n",
       "        0.26055622, 0.11036949, 0.52867977, 0.11353243, 0.73972816],\n",
       "       [0.39884469, 0.06945704, 0.12759173, 0.06404501, 0.25153642,\n",
       "        0.89848165, 0.93492123, 0.45093903, 0.23117396, 0.04148317],\n",
       "       [0.00419502, 0.24688202, 0.26084885, 0.25496472, 0.24772823,\n",
       "        0.6910082 , 0.26856387, 0.40239668, 0.03908551, 0.69482914],\n",
       "       [0.93814798, 0.52499361, 0.94881629, 0.83177106, 0.80866781,\n",
       "        0.29970109, 0.35055606, 0.34616823, 0.98890019, 0.85109489],\n",
       "       [0.80089057, 0.3395694 , 0.58973557, 0.81574674, 0.88235415,\n",
       "        0.29099976, 0.07710744, 0.37862188, 0.94693001, 0.68688145],\n",
       "       [0.57483746, 0.93654521, 0.10460665, 0.43121994, 0.56421097,\n",
       "        0.52476138, 0.603747  , 0.48423027, 0.78662079, 0.72156421],\n",
       "       [0.02975943, 0.04798122, 0.95081411, 0.2755458 , 0.60044237,\n",
       "        0.14374418, 0.09586636, 0.71409141, 0.94511615, 0.60141412]])"
      ]
     },
     "execution_count": 38,
     "metadata": {},
     "output_type": "execute_result"
    }
   ],
   "source": [
    "Mat4"
   ]
  },
  {
   "cell_type": "code",
   "execution_count": 40,
   "id": "8165a342",
   "metadata": {},
   "outputs": [],
   "source": [
    "Mat5=np.random.randn(2,3)"
   ]
  },
  {
   "cell_type": "code",
   "execution_count": 42,
   "id": "e921df03",
   "metadata": {},
   "outputs": [
    {
     "data": {
      "text/plain": [
       "array([[-1.42427521,  1.83992008,  0.28538396],\n",
       "       [-0.68046124,  0.07337175,  0.66932196]])"
      ]
     },
     "execution_count": 42,
     "metadata": {},
     "output_type": "execute_result"
    }
   ],
   "source": [
    "Mat5"
   ]
  },
  {
   "cell_type": "code",
   "execution_count": 44,
   "id": "b3139eca",
   "metadata": {},
   "outputs": [
    {
     "data": {
      "text/plain": [
       "array([0, 0, 0, 0, 0, 0, 0, 0, 0, 0])"
      ]
     },
     "execution_count": 44,
     "metadata": {},
     "output_type": "execute_result"
    }
   ],
   "source": [
    "np.zeros(10,dtype='int')"
   ]
  },
  {
   "cell_type": "code",
   "execution_count": 48,
   "id": "e2ef9127",
   "metadata": {},
   "outputs": [
    {
     "data": {
      "text/plain": [
       "array([[1., 1., 1., 1., 1.],\n",
       "       [1., 1., 1., 1., 1.],\n",
       "       [1., 1., 1., 1., 1.],\n",
       "       [1., 1., 1., 1., 1.]])"
      ]
     },
     "execution_count": 48,
     "metadata": {},
     "output_type": "execute_result"
    }
   ],
   "source": [
    "np.ones((4,5),dtype=float)"
   ]
  },
  {
   "cell_type": "code",
   "execution_count": 50,
   "id": "e31c72b7",
   "metadata": {},
   "outputs": [
    {
     "data": {
      "text/plain": [
       "array([[23, 23, 23, 23, 23],\n",
       "       [23, 23, 23, 23, 23],\n",
       "       [23, 23, 23, 23, 23],\n",
       "       [23, 23, 23, 23, 23]])"
      ]
     },
     "execution_count": 50,
     "metadata": {},
     "output_type": "execute_result"
    }
   ],
   "source": [
    "np.full((4,5),23)"
   ]
  },
  {
   "cell_type": "code",
   "execution_count": 54,
   "id": "d94d5a25",
   "metadata": {},
   "outputs": [
    {
     "data": {
      "text/plain": [
       "array([[1., 0., 0., 0.],\n",
       "       [0., 1., 0., 0.],\n",
       "       [0., 0., 1., 0.],\n",
       "       [0., 0., 0., 1.]])"
      ]
     },
     "execution_count": 54,
     "metadata": {},
     "output_type": "execute_result"
    }
   ],
   "source": [
    "np.eye(4)"
   ]
  },
  {
   "cell_type": "code",
   "execution_count": 58,
   "id": "b8a4d743",
   "metadata": {},
   "outputs": [
    {
     "data": {
      "text/plain": [
       "array([ 1,  2,  3,  3,  4,  5, 23, 23, 23])"
      ]
     },
     "execution_count": 58,
     "metadata": {},
     "output_type": "execute_result"
    }
   ],
   "source": [
    "x=np.array([1,2,3])\n",
    "y=np.array([3,4,5])\n",
    "z=[23,23,23]\n",
    "np.concatenate([x,y,z])"
   ]
  },
  {
   "cell_type": "code",
   "execution_count": 60,
   "id": "59ecf333",
   "metadata": {},
   "outputs": [
    {
     "data": {
      "text/plain": [
       "array([[12, 12, 12],\n",
       "       [23, 23, 23],\n",
       "       [12, 12, 12],\n",
       "       [23, 23, 23]])"
      ]
     },
     "execution_count": 60,
     "metadata": {},
     "output_type": "execute_result"
    }
   ],
   "source": [
    "surya=np.array([[12,12,12],[23,23,23]])\n",
    "np.concatenate([surya,surya])"
   ]
  },
  {
   "cell_type": "code",
   "execution_count": 67,
   "id": "15bd3a25",
   "metadata": {},
   "outputs": [
    {
     "data": {
      "text/plain": [
       "array([[1, 2, 3],\n",
       "       [4, 5, 6],\n",
       "       [7, 8, 9]])"
      ]
     },
     "execution_count": 67,
     "metadata": {},
     "output_type": "execute_result"
    }
   ],
   "source": [
    "x=np.array([1,2,3])\n",
    "surya=np.array([[4,5,6],[7,8,9]])\n",
    "np.vstack([x,surya])\n"
   ]
  },
  {
   "cell_type": "code",
   "execution_count": 69,
   "id": "fc558ca6",
   "metadata": {},
   "outputs": [
    {
     "data": {
      "text/plain": [
       "array([[4, 5, 6, 9],\n",
       "       [7, 8, 9, 9]])"
      ]
     },
     "execution_count": 69,
     "metadata": {},
     "output_type": "execute_result"
    }
   ],
   "source": [
    "x=np.array([[9],[9]])\n",
    "np.hstack([surya,x])"
   ]
  },
  {
   "cell_type": "code",
   "execution_count": 71,
   "id": "4a47bfcb",
   "metadata": {},
   "outputs": [],
   "source": [
    "import numpy as surya"
   ]
  },
  {
   "cell_type": "code",
   "execution_count": 73,
   "id": "83d05288",
   "metadata": {},
   "outputs": [],
   "source": [
    "surya1=np.array([5,5])"
   ]
  },
  {
   "cell_type": "code",
   "execution_count": 75,
   "id": "30dd0a1a",
   "metadata": {},
   "outputs": [
    {
     "data": {
      "text/plain": [
       "array([5, 5])"
      ]
     },
     "execution_count": 75,
     "metadata": {},
     "output_type": "execute_result"
    }
   ],
   "source": [
    "surya1"
   ]
  },
  {
   "cell_type": "code",
   "execution_count": 76,
   "id": "5f6915bf",
   "metadata": {},
   "outputs": [
    {
     "data": {
      "text/plain": [
       "numpy.ndarray"
      ]
     },
     "execution_count": 76,
     "metadata": {},
     "output_type": "execute_result"
    }
   ],
   "source": [
    "type(surya1)"
   ]
  }
 ],
 "metadata": {
  "kernelspec": {
   "display_name": "Python 3 (ipykernel)",
   "language": "python",
   "name": "python3"
  },
  "language_info": {
   "codemirror_mode": {
    "name": "ipython",
    "version": 3
   },
   "file_extension": ".py",
   "mimetype": "text/x-python",
   "name": "python",
   "nbconvert_exporter": "python",
   "pygments_lexer": "ipython3",
   "version": "3.11.4"
  }
 },
 "nbformat": 4,
 "nbformat_minor": 5
}
