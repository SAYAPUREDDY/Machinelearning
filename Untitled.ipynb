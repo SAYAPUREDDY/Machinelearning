{
 "cells": [
  {
   "cell_type": "code",
   "execution_count": null,
   "id": "967cccdc",
   "metadata": {},
   "outputs": [],
   "source": [
    "import numpy as np\n",
    "import pandas as pd\n",
    "import seaborn as sb\n",
    "data=pd.read_csv('C:/Users/91965/Desktop/House_price.csv',header=0)\n",
    "data.head()\n",
    "data.shape\n",
    "data.describe()\n",
    "sb.jointplot(x='n_hot_rooms',y='price',data=data)\n",
    "sb.jointplot(x='rainfall',y='price',data=data)\n",
    "data.info()\n",
    "np.percentile(data.n_hot_rooms,[99])\n",
    "np.percentile(data.n_hot_rooms,[99])[0]\n",
    "upper_limit=np.percentile(data.n_hot_rooms,[99])[0]\n",
    "data[(data.n_hot_rooms>upper_limit)]\n",
    "data.n_hot_rooms[(data.n_hot_rooms>3*upper_limit)]=3*upper_limit\n",
    "data[(data.n_hot_rooms>upper_limit)]\n",
    "np.percentile(data.rainfall,[1])[0]\n",
    "Lower_value=np.percentile(data.rainfall,[1])[0]\n",
    "data[(data.rainfall<Lower_value)]\n",
    "data.rainfall[(data.rainfall<0.3*Lower_value)]=0.3*Lower_value\n",
    "data[(data.rainfall<Lower_value)]\n",
    "sb.jointplot(x=\"crime_rate\",y=\"price\",data=data)\n",
    "data.describe()\n",
    "data.n_hos_beds=data.n_hos_beds.fillna(data.n_hos_beds.mean())\n",
    "data=data.fillna(data.mean())\n",
    "sb.jointplot(x=\"waterbody\",y=\"price\",data=data)\n",
    "data=data.drop(['waterbody'],axis=1)\n",
    "sb.jointplot(x=\"crime_rate\",y=\"price\",data=data)\n",
    "data.crime_rate=np.log(1+data.crime_rate)\n",
    "sb.jointplot(x=\"crime_rate\",y=\"price\",data=data)\n",
    "data['avg_dist']=(data.dist1+data.dist2+data.dist3+data.dist4)/4\n",
    "del data['dist4']\n",
    "data.head()\n",
    "data=pd.get_dummies(data,prefix=None)\n",
    "data=data.replace({False:0,True:1})\n",
    "del data['bus_ter_YES']\n",
    "import statsmodels.api as sn\n",
    "X=sn.add_constant(data['room_num'])\n",
    "lm=sn.OLS(data['price'],X).fit()\n",
    "lm.summary()\n",
    "from sklearn.linear_model import LinearRegression\n",
    "y=data['price']\n",
    "x=data[['room_num']]\n",
    "lm2=LinearRegression()\n",
    "lm2.fit(x,y)\n",
    "print(lm2.intercept_,lm2.coef_)\n",
    "lm2.predict(x)\n",
    "sb.jointplot(x=data['room_num'],y=data['price'],data=data,kind=\"reg\")\n"
   ]
  }
 ],
 "metadata": {
  "kernelspec": {
   "display_name": "Python 3",
   "language": "python",
   "name": "python3"
  },
  "language_info": {
   "codemirror_mode": {
    "name": "ipython",
    "version": 3
   },
   "file_extension": ".py",
   "mimetype": "text/x-python",
   "name": "python",
   "nbconvert_exporter": "python",
   "pygments_lexer": "ipython3",
   "version": "3.9.5"
  }
 },
 "nbformat": 4,
 "nbformat_minor": 5
}
