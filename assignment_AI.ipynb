{
 "cells": [
  {
   "cell_type": "code",
   "execution_count": 2,
   "id": "7b4a0e8c",
   "metadata": {},
   "outputs": [
    {
     "name": "stdout",
     "output_type": "stream",
     "text": [
      "True Positives (TP): 16\n",
      "False Positives (FP): 0\n",
      "False Negatives (FN): 0\n",
      "True Negatives (TN): 29\n",
      "Accuracy: 1.0\n",
      "Precision: 1.0\n",
      "Recall: 1.0\n",
      "F1-Score: 1.0\n"
     ]
    }
   ],
   "source": [
    "import numpy as np\n",
    "\n",
    "conf_matrix = np.array([[16,0,0], [0,17,1] ,[0,0,11]])\n",
    "\n",
    "class_index=0\n",
    "\n",
    "true_positives = conf_matrix[class_index, class_index]\n",
    "false_positives = np.sum(conf_matrix[:, class_index]) - true_positives\n",
    "false_negatives = np.sum(conf_matrix[class_index, :]) - true_positives\n",
    "true_negatives = np.sum(conf_matrix) - (true_positives + false_positives + false_negatives)\n",
    "\n",
    "accuracy = (true_positives + true_negatives) / np.sum(conf_matrix)\n",
    "precision = true_positives / (true_positives + false_positives)\n",
    "recall = true_positives / (true_positives + false_negatives)\n",
    "f1_score = 2 * (precision * recall) / (precision + recall)\n",
    "\n",
    "# Display the results\n",
    "print(f\"True Positives (TP): {true_positives}\")\n",
    "print(f\"False Positives (FP): {false_positives}\")\n",
    "print(f\"False Negatives (FN): {false_negatives}\")\n",
    "print(f\"True Negatives (TN): {true_negatives}\")\n",
    "print(f\"Accuracy: {accuracy:}\")\n",
    "print(f\"Precision: {precision:}\")\n",
    "print(f\"Recall: {recall:}\")\n",
    "print(f\"F1-Score: {f1_score:}\")\n"
   ]
  }
 ],
 "metadata": {
  "kernelspec": {
   "display_name": "Python 3",
   "language": "python",
   "name": "python3"
  },
  "language_info": {
   "codemirror_mode": {
    "name": "ipython",
    "version": 3
   },
   "file_extension": ".py",
   "mimetype": "text/x-python",
   "name": "python",
   "nbconvert_exporter": "python",
   "pygments_lexer": "ipython3",
   "version": "3.9.5"
  }
 },
 "nbformat": 4,
 "nbformat_minor": 5
}
